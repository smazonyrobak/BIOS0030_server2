{
 "cells": [
  {
   "cell_type": "code",
   "execution_count": null,
   "metadata": {},
   "outputs": [],
   "source": [
    "from IPython.display import display\n",
    "import ipywidgets as widgets\n",
    "\n",
    "# Create a text widget\n",
    "text_widget = widgets.Text(value='Hello, world!', description='Text Widget:')\n",
    "\n",
    "# Display the widget\n",
    "display(text_widget)"
   ]
  },
  {
   "cell_type": "code",
   "execution_count": null,
   "metadata": {},
   "outputs": [],
   "source": [
    "from IPython.display import display\n",
    "import ipywidgets as widgets\n",
    "\n",
    "# Create a text widget\n",
    "text_widget = widgets.Text(value='Hello, world!', description='Text Widget:')\n",
    "\n",
    "# Display the widget\n",
    "display(text_widget)"
   ]
  },
  {
   "cell_type": "code",
   "execution_count": null,
   "metadata": {},
   "outputs": [],
   "source": [
    "from IPython.display import display\n",
    "import ipywidgets as widgets\n",
    "\n",
    "# Create a text widget\n",
    "text_widget = widgets.Text(value='Hello, world!', description='Text Widget:')\n",
    "\n",
    "# Display the widget\n",
    "display(text_widget)"
   ]
  },
  {
   "cell_type": "code",
   "execution_count": null,
   "metadata": {},
   "outputs": [],
   "source": [
    "from IPython.display import display\n",
    "import ipywidgets as widgets\n",
    "\n",
    "# Create a text widget\n",
    "text_widget = widgets.Text(value='Hello, world!', description='Text Widget:')\n",
    "\n",
    "# Display the widget\n",
    "display(text_widget)"
   ]
  },
  {
   "cell_type": "code",
   "execution_count": null,
   "metadata": {},
   "outputs": [],
   "source": [
    "from IPython.display import display\n",
    "import ipywidgets as widgets\n",
    "\n",
    "# Create a text widget\n",
    "text_widget = widgets.Text(value='Hello, world!', description='Text Widget:')\n",
    "\n",
    "# Display the widget\n",
    "display(text_widget)"
   ]
  }
 ],
 "metadata": {
  "language_info": {
   "name": "python"
  }
 },
 "nbformat": 4,
 "nbformat_minor": 2
}
