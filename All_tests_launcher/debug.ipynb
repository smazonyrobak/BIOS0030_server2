{
 "cells": [
  {
   "cell_type": "code",
   "execution_count": null,
   "id": "e4485aef-9ac7-4c64-b0be-1aa683ee35dd",
   "metadata": {},
   "outputs": [
    {
     "data": {
      "text/html": [
       "<p><image src='puzzle.png' width='5px' ><image src='math_photo.png' width='5px' ><image src='memory.png' width='5px' ><image src='ans.png' width='5px' ></p>"
      ],
      "text/plain": [
       "<IPython.core.display.HTML object>"
      ]
     },
     "metadata": {},
     "output_type": "display_data"
    },
    {
     "name": "stdout",
     "output_type": "stream",
     "text": [
      "DATA CONSENT INFORMATION:\n",
      "\n",
      "    Please read:\n",
      "\n",
      "    we wish to record your response data\n",
      "\n",
      "    to an anonymised public data repository.\n",
      "\n",
      "    Your data will be used for educational teaching purposes\n",
      "\n",
      "    practising data analysis and visualisation.\n",
      "\n",
      "    Please type yes in the box below if you consent to the upload.\n"
     ]
    }
   ],
   "source": [
    "import io\n",
    "from nbformat import read\n",
    "import sys\n",
    "\n",
    "# Define the lexer and formatter\n",
    "from pygments import highlight\n",
    "from pygments.lexers import PythonLexer\n",
    "from pygments.formatters import HtmlFormatter\n",
    "\n",
    "# Function to run code cells from a notebook\n",
    "def run_notebook_code(notebook_path):\n",
    "    # Define the lexer and formatter\n",
    "    lexer = PythonLexer()\n",
    "    formatter = HtmlFormatter()\n",
    "\n",
    "    # Read the notebook\n",
    "    with io.open(notebook_path, 'r', encoding='utf-8') as f:\n",
    "        nb = read(f, 4)\n",
    "\n",
    "    # Execute the code cells\n",
    "    for cell in nb.cells:\n",
    "        if cell.cell_type == 'code':\n",
    "            exec(cell.source)\n",
    "\n",
    "# Path to the notebook you want to run\n",
    "notebook_path = '/home/jupyter-szymon.lic.22@ucl.-69ac9/cognitive_tests_group_11/ANS_Test/ANS_Test.ipynb'\n",
    "\n",
    "# Run the code cells in the notebook\n",
    "run_notebook_code(notebook_path)\n"
   ]
  },
  {
   "cell_type": "code",
   "execution_count": null,
   "id": "ec9120f5-3505-4d8e-b265-5bac76ae7495",
   "metadata": {},
   "outputs": [],
   "source": []
  }
 ],
 "metadata": {
  "kernelspec": {
   "display_name": "Python 3 (ipykernel)",
   "language": "python",
   "name": "python3"
  },
  "language_info": {
   "codemirror_mode": {
    "name": "ipython",
    "version": 3
   },
   "file_extension": ".py",
   "mimetype": "text/x-python",
   "name": "python",
   "nbconvert_exporter": "python",
   "pygments_lexer": "ipython3",
   "version": "3.10.10"
  }
 },
 "nbformat": 4,
 "nbformat_minor": 5
}
