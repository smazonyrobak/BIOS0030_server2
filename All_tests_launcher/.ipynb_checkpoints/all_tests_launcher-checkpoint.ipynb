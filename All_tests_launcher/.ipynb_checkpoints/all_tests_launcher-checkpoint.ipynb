{
 "cells": [
  {
   "cell_type": "code",
   "execution_count": 28,
   "id": "67df6e4b-8878-4d2d-b860-3de1c93b5984",
   "metadata": {},
   "outputs": [
    {
     "data": {
      "application/vnd.jupyter.widget-view+json": {
       "model_id": "71f3f92eb4244e0a95d8527faec64ebf",
       "version_major": 2,
       "version_minor": 0
      },
      "text/plain": [
       "HTML(value=\"<div style='text-align: center; font-size: 16px;'><h2>Welcome to the UCL BIOS0030 cognitive tasks …"
      ]
     },
     "metadata": {},
     "output_type": "display_data"
    },
    {
     "data": {
      "application/vnd.jupyter.widget-view+json": {
       "model_id": "24f51fefb6cc45259e74b16c92cffb96",
       "version_major": 2,
       "version_minor": 0
      },
      "text/plain": [
       "GridspecLayout(children=(Image(value=b'\\x89PNG\\r\\n\\x1a\\n\\x00\\x00\\x00\\rIHDR\\x00\\x00\\x01O\\x00\\x00\\x01\\x8a\\x08\\x0…"
      ]
     },
     "metadata": {},
     "output_type": "display_data"
    }
   ],
   "source": [
    "import os\n",
    "import json\n",
    "import nbimporter\n",
    "import ipywidgets as widgets\n",
    "from IPython.display import display, clear_output\n",
    "\n",
    "class home_screen:\n",
    "    def __init__(self):\n",
    "        self.tracking_taken_tests = {\"Ans\": 0, \"Math\": 0, \"Memory\": 0, \"spatial\": 0}\n",
    "    def home_screen_widgets(self):\n",
    "        home_text = widgets.HTML(\n",
    "            value=\"<div style='text-align: center; font-size: 16px;'>\"\n",
    "            \"<h2>Welcome to the UCL BIOS0030 cognitive tasks main menu</h2>\"\n",
    "            \"<p>You will have a chance to complete four different cognitive tasks, each testing different abilities.</p><br>\"\n",
    "            \"You may wish to allocate 10-15 minutes to complete all of them. After completing each task, the widgets will be marked.<br>\"\n",
    "            \"To help you keep track of your progress. Most importantly, take them with a grain of salt. Just like humans, cognitive tests are not perfect,<br>\"\n",
    "            \"and are not a reflection of your true abilities, nor value. Have fun!</div>\",  # Added closing </div>\n",
    "            layout=widgets.Layout(justify_content='center')\n",
    "        )\n",
    "\n",
    "        def button_clicking_logic(test_clicked):\n",
    "            clear_output()\n",
    "            def on_button_click(b):\n",
    "                script_path = os.path.join(f\"/home/jupyter-szymon.lic.22@ucl.-69ac9/cognitive_tests_group_11/{test_clicked}/{test_clicked}.ipynb\")\n",
    "                %run script_path\n",
    "                \n",
    "        choices_dictionary = {\n",
    "            \n",
    "            \"ANS_Test\": {\n",
    "                \"photo\": widgets.Image(value=open(\"ans.png\", \"rb\").read(), format='png', width=150, height=150),\n",
    "                \"button\": widgets.Button(description=\"ANS Test\")\n",
    "            },\n",
    "            \"Maths_Test\": {\n",
    "                \"photo\": widgets.Image(value=open(\"math_photo.png\", \"rb\").read(), format='png', width=150, height=150),\n",
    "                \"button\": widgets.Button(description=\"Maths Test\")\n",
    "            },\n",
    "            \"Memory_Test\": {\n",
    "                \"photo\": widgets.Image(value=open(\"memory.png\", \"rb\").read(), format='png', width=150, height=150),\n",
    "                \"button\": widgets.Button(description=\"Memory Test\")\n",
    "            },\n",
    "            \"Spatial_Test\": {\n",
    "                \"photo\": widgets.Image(value=open(\"puzzle.png\", \"rb\").read(), format='png', width=150, height=150),\n",
    "                \"button\": widgets.Button(description=\"Spatial Test\")\n",
    "            }\n",
    "        }\n",
    "\n",
    "        for test, widget in choices_dictionary.items():\n",
    "            widget[\"button\"].on_click(button_clicking_logic(test))  # Corrected the parenthesis\n",
    "\n",
    "        # Grid layout\n",
    "        grid = widgets.GridspecLayout(2, 4)  # Removed the colon\n",
    "        for i, (test, test_widgets) in enumerate(choices_dictionary.items()):  # Renamed 'widgets' to 'test_widgets'\n",
    "            grid[0, i] = test_widgets[\"photo\"]\n",
    "            grid[1, i] = test_widgets[\"button\"]\n",
    "\n",
    "        # Display the widgets\n",
    "        display(home_text)\n",
    "        display(grid)\n",
    "\n",
    "# Create an instance of home_screen\n",
    "home = home_screen()\n",
    "home.home_screen_widgets()"
   ]
  },
  {
   "cell_type": "code",
   "execution_count": null,
   "id": "7f075fb6-6cad-4848-92fe-6e65250dfea8",
   "metadata": {},
   "outputs": [],
   "source": []
  },
  {
   "cell_type": "code",
   "execution_count": null,
   "id": "4cd6ffa6-cce7-472a-b6f4-7a67118f671a",
   "metadata": {},
   "outputs": [],
   "source": []
  }
 ],
 "metadata": {
  "kernelspec": {
   "display_name": "Python 3 (ipykernel)",
   "language": "python",
   "name": "python3"
  },
  "language_info": {
   "codemirror_mode": {
    "name": "ipython",
    "version": 3
   },
   "file_extension": ".py",
   "mimetype": "text/x-python",
   "name": "python",
   "nbconvert_exporter": "python",
   "pygments_lexer": "ipython3",
   "version": "3.10.10"
  }
 },
 "nbformat": 4,
 "nbformat_minor": 5
}
