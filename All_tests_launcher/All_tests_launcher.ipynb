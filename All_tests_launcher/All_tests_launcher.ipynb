{
 "cells": [
  {
   "cell_type": "code",
   "execution_count": 15,
   "id": "67df6e4b-8878-4d2d-b860-3de1c93b5984",
   "metadata": {
    "ExecuteTime": {
     "end_time": "2023-12-07T21:37:52.584191Z",
     "start_time": "2023-12-07T21:37:52.563092Z"
    }
   },
   "outputs": [
    {
     "data": {
      "text/plain": "HTML(value=\"<div style='text-align: center; font-size: 16px;'><h2>Welcome to the UCL BIOS0030 cognitive tasks …",
      "application/vnd.jupyter.widget-view+json": {
       "version_major": 2,
       "version_minor": 0,
       "model_id": "7a1f29cd684b494f94a36562bcaa46a2"
      }
     },
     "metadata": {},
     "output_type": "display_data"
    },
    {
     "data": {
      "text/plain": "VBox(children=(GridspecLayout(children=(Image(value=b'\\x89PNG\\r\\n\\x1a\\n\\x00\\x00\\x00\\rIHDR\\x00\\x00\\x01\\x8b\\x00\\…",
      "application/vnd.jupyter.widget-view+json": {
       "version_major": 2,
       "version_minor": 0,
       "model_id": "c89bb27747d34ee38b345afa2cc12e9d"
      }
     },
     "metadata": {},
     "output_type": "display_data"
    },
    {
     "data": {
      "text/plain": "Output()",
      "application/vnd.jupyter.widget-view+json": {
       "version_major": 2,
       "version_minor": 0,
       "model_id": "fc1e58eb3ccf4a54a978ca3a03b67654"
      }
     },
     "metadata": {},
     "output_type": "display_data"
    }
   ],
   "source": [
    "#imports for reading other files\n",
    "import io\n",
    "import os\n",
    "from nbformat import read\n",
    "###################################################\n",
    "\n",
    "#imports for the main menu\n",
    "import ipywidgets as widgets\n",
    "from IPython.display import display, clear_output\n",
    "\n",
    "original_dir = specified_dir = \"../All_tests_launcher/\"\n",
    "\n",
    "\n",
    "class Output_creator:\n",
    "    widgets.Output()\n",
    "\n",
    "class TestsRunner:\n",
    "    def __init__(self, home_screen):\n",
    "        self.home_screen = home_screen\n",
    "        \n",
    "    def run_notebook_code(self, notebook_path):\n",
    "        with io.open(notebook_path, 'r', encoding='utf-8') as f:\n",
    "            nb = read(f, 4)\n",
    "        global_namespace = globals()\n",
    "        for cell in nb.cells:\n",
    "            if cell.cell_type == 'code':\n",
    "                os.chdir(f\"../{self.home_screen.current_test}\")\n",
    "                exec(cell.source, global_namespace)\n",
    "\n",
    "        os.chdir(original_dir)\n",
    "\n",
    "class HomeScreen:\n",
    "    def __init__(self):\n",
    "        self.tests_runner = TestsRunner(self)\n",
    "        self.tracking_taken_tests = {\"Ans_Test\": 0, \"Math_Test\": 0, \"Memory_Test\": 0, \"Spatial_Test\": 0}\n",
    "        self.output = widgets.Output()\n",
    "        \n",
    "    def setup_test_interaction(self, test_name):\n",
    "        \"\"\"Prepares the interaction logic for each test button.\"\"\"\n",
    "        def handle_test_execution(button_instance):\n",
    "            \"\"\"Executes the selected test and updates the button upon completion.\"\"\"\n",
    "            self.current_test = test_name\n",
    "            with self.output:\n",
    "                clear_output()  # Clear the output of the current cell\n",
    "                script_path = f\"../{self.current_test}/{self.current_test}.ipynb\"\n",
    "                self.tests_runner.run_notebook_code(script_path)\n",
    "\n",
    "                # Update the test's status and button appearance if it's the first completion\n",
    "                if self.tracking_taken_tests[self.current_test] == 0:\n",
    "                    button_instance.description = f\"{test_name} ✔️\"\n",
    "                    button_instance.style.button_color = 'lightgreen'\n",
    "                    self.tracking_taken_tests[self.current_test] = 1\n",
    "\n",
    "        return handle_test_execution\n",
    "        \n",
    "    def home_screen_widgets(self):\n",
    "        home_text = widgets.HTML(\n",
    "            value=\"<div style='text-align: center; font-size: 16px;'>\"\n",
    "            \"<h2>Welcome to the UCL BIOS0030 cognitive tasks main menu</h2>\"\n",
    "            \"<p>You will have a chance to complete four different cognitive tasks, each testing different abilities.<br>\"\n",
    "            \"You may wish to allocate 10-15 minutes to complete all of them.\"\n",
    "            \"<br>Most importantly, <u>take them with a grain of salt</u>. \"\n",
    "            \"<b>Have fun!</b></div>\",  # Added closing </div>\n",
    "            layout=widgets.Layout(justify_content='center')\n",
    "        )\n",
    "        display(home_text)\n",
    "    \n",
    "        choices_dictionary = {\n",
    "            \n",
    "            \"ANS_Test\": {\n",
    "                \"photo\": widgets.Image(value=open(\"ans.png\", \"rb\").read(), format='png', width=120, height=120),\n",
    "                \"button\": widgets.Button(description=\"ANS Test\")\n",
    "            },\n",
    "            \"Maths_Test\": {\n",
    "                \"photo\": widgets.Image(value=open(\"math_photo.png\", \"rb\").read(), format='png', width=120, height=120),\n",
    "                \"button\": widgets.Button(description=\"Maths Test\")\n",
    "            },\n",
    "            \"Memory_Test\": {\n",
    "                \"photo\": widgets.Image(value=open(\"memory.png\", \"rb\").read(), format='png', width=120, height=120),\n",
    "                \"button\": widgets.Button(description=\"Memory Test\")\n",
    "            },\n",
    "            \"Spatial_Test\": {\n",
    "                \"photo\": widgets.Image(value=open(\"puzzle.png\", \"rb\").read(), format='png', width=120, height=120),\n",
    "                \"button\": widgets.Button(description=\"Spatial Test\")\n",
    "            }\n",
    "        }\n",
    "    \n",
    "        for test, widget in choices_dictionary.items():\n",
    "            widget[\"button\"].on_click(self.setup_test_interaction(test))\n",
    "    \n",
    "        # Grid layout\n",
    "        grid = widgets.GridspecLayout(2, 4)  # Removed the colon\n",
    "        for i, (test, test_widgets) in enumerate(choices_dictionary.items()): \n",
    "            grid[0, i] = test_widgets[\"photo\"]\n",
    "            grid[1, i] = test_widgets[\"button\"]\n",
    "\n",
    "        vboxed_grid = widgets.VBox([grid],\n",
    "                            layout=widgets.Layout(align_items='center', margin='40px 0 0 0'))\n",
    "        \n",
    "        display(vboxed_grid)\n",
    "    \n",
    "#Create an instance of home_screen\n",
    "os.chdir(specified_dir)\n",
    "home = HomeScreen()\n",
    "home.home_screen_widgets()\n",
    "display(home.output) "
   ]
  },
  {
   "cell_type": "code",
   "execution_count": null,
   "id": "5e03382b-c7a8-49e8-a16f-62cc526550cc",
   "metadata": {},
   "outputs": [],
   "source": []
  }
 ],
 "metadata": {
  "kernelspec": {
   "display_name": "Python 3 (ipykernel)",
   "language": "python",
   "name": "python3"
  },
  "language_info": {
   "codemirror_mode": {
    "name": "ipython",
    "version": 3
   },
   "file_extension": ".py",
   "mimetype": "text/x-python",
   "name": "python",
   "nbconvert_exporter": "python",
   "pygments_lexer": "ipython3",
   "version": "3.10.10"
  }
 },
 "nbformat": 4,
 "nbformat_minor": 5
}
