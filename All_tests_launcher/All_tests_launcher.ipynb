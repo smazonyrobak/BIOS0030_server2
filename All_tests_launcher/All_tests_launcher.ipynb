{
 "cells": [
  {
   "cell_type": "code",
   "execution_count": 6,
   "id": "67df6e4b-8878-4d2d-b860-3de1c93b5984",
   "metadata": {
    "ExecuteTime": {
     "end_time": "2023-12-07T03:17:32.011410Z",
     "start_time": "2023-12-07T03:17:31.944916Z"
    }
   },
   "outputs": [
    {
     "data": {
      "text/plain": "HTML(value=\"<div style='text-align: center; font-size: 16px;'><h2>Welcome to the UCL BIOS0030 cognitive tasks …",
      "application/vnd.jupyter.widget-view+json": {
       "version_major": 2,
       "version_minor": 0,
       "model_id": "7247825b53a8457791c274c54bf09649"
      }
     },
     "metadata": {},
     "output_type": "display_data"
    },
    {
     "data": {
      "text/plain": "VBox(children=(GridspecLayout(children=(Image(value=b'\\x89PNG\\r\\n\\x1a\\n\\x00\\x00\\x00\\rIHDR\\x00\\x00\\x01\\x8b\\x00\\…",
      "application/vnd.jupyter.widget-view+json": {
       "version_major": 2,
       "version_minor": 0,
       "model_id": "f3990d0b47634252a8c645734ebeab24"
      }
     },
     "metadata": {},
     "output_type": "display_data"
    },
    {
     "data": {
      "text/plain": "Output()",
      "application/vnd.jupyter.widget-view+json": {
       "version_major": 2,
       "version_minor": 0,
       "model_id": "aa5d4fd8ce574449850fb51af9ceab63"
      }
     },
     "metadata": {},
     "output_type": "display_data"
    }
   ],
   "source": [
    "import os\n",
    "import ipywidgets as widgets\n",
    "from IPython.display import display, clear_output, Javascript \n",
    "\n",
    "\n",
    "original_dir = specified_dir = \"../All_tests_launcher/\"\n",
    "\n",
    "class HomeScreen:\n",
    "    def __init__(self):\n",
    "        self.tracking_taken_tests = {\"Ans_Test\": 0, \"Math_Test\": 0, \"Memory_Test\": 0, \"Spatial_Test\": 0}\n",
    "        self.output = widgets.Output()\n",
    "\n",
    "    def setup_test_interaction(self, url):\n",
    "        \"\"\"Prepares the interaction logic for each test button.\"\"\"\n",
    "        def handle_test_execution(button_instance):\n",
    "            \"\"\"Redirect to the selected test's URL.\"\"\"\n",
    "            Javascript(f'window.open(\"{url}\", \"_self\");'))\n",
    "\n",
    "        return handle_test_execution\n",
    "\n",
    "    def home_screen_widgets(self):\n",
    "        home_text = widgets.HTML(\n",
    "            value=\"<div style='text-align: center; font-size: 16px;'>\"\n",
    "                  \"<h2>Welcome to the UCL BIOS0030 cognitive tasks main menu</h2>\"\n",
    "                  \"<p>You will have a chance to complete four different cognitive tasks, each testing different abilities.<br>\"\n",
    "                  \"You may wish to allocate 10-15 minutes to complete all of them. After completing each task, the widgets will be marked,\"\n",
    "                  \"to help you keep track of your progress.<br>Most importantly, <u>take them with a grain of salt</u>. Just like humans, cognitive tests are not perfect.<br>\"\n",
    "                  \"<b>Have fun!</b></div>\",\n",
    "            layout=widgets.Layout(justify_content='center')\n",
    "        )\n",
    "        display(home_text)\n",
    "\n",
    "        base_url = \"https://uclbios-c7accae8eb34.herokuapp.com/voila/render\"\n",
    "        test_urls = {\n",
    "            \"ANS_Test\": f\"{base_url}/ANS_Test/ANS_Test.ipynb\",\n",
    "            \"Maths_Test\": f\"{base_url}/Maths_Test/Maths_Test.ipynb\",\n",
    "            \"Memory_Test\": f\"{base_url}/Memory_Test/Memory_Test.ipynb\",\n",
    "            \"Spatial_Test\": f\"{base_url}/Spatial_Test/Spatial_Test.ipynb\",\n",
    "        }\n",
    "\n",
    "        choices_dictionary = {\n",
    "            \"ANS_Test\": {\n",
    "                \"photo\": widgets.Image(value=open(\"ans.png\", \"rb\").read(), format='png', width=150, height=150),\n",
    "                \"button\": widgets.Button(description=\"ANS Test\")\n",
    "            },\n",
    "            \"Maths_Test\": {\n",
    "                \"photo\": widgets.Image(value=open(\"math_photo.png\", \"rb\").read(), format='png', width=150, height=150),\n",
    "                \"button\": widgets.Button(description=\"Maths Test\")\n",
    "            },\n",
    "            \"Memory_Test\": {\n",
    "                \"photo\": widgets.Image(value=open(\"memory.png\", \"rb\").read(), format='png', width=150, height=150),\n",
    "                \"button\": widgets.Button(description=\"Memory Test\")\n",
    "            },\n",
    "            \"Spatial_Test\": {\n",
    "                \"photo\": widgets.Image(value=open(\"puzzle.png\", \"rb\").read(), format='png', width=150, height=150),\n",
    "                \"button\": widgets.Button(description=\"Spatial Test\")\n",
    "            }\n",
    "        }\n",
    "\n",
    "        for test, widget in choices_dictionary.items():\n",
    "            url = test_urls[test]\n",
    "            widget[\"button\"].on_click(self.setup_test_interaction(url))\n",
    "\n",
    "        grid = widgets.GridspecLayout(2, 4)\n",
    "        for i, (test, test_widgets) in enumerate(choices_dictionary.items()):\n",
    "            grid[0, i] = test_widgets[\"photo\"]\n",
    "            grid[1, i] = test_widgets[\"button\"]\n",
    "\n",
    "        vboxed_grid = widgets.VBox([grid],\n",
    "                                   layout=widgets.Layout(align_items='center', margin='100px 0 0 0'))\n",
    "\n",
    "        display(vboxed_grid, self.output)\n",
    "\n",
    "# Create an instance of HomeScreen and display the main menu\n",
    "os.chdir(specified_dir)\n",
    "home = HomeScreen()\n",
    "home.home_screen_widgets()\n"
   ]
  },
  {
   "cell_type": "code",
   "execution_count": null,
   "id": "5e03382b-c7a8-49e8-a16f-62cc526550cc",
   "metadata": {},
   "outputs": [],
   "source": []
  }
 ],
 "metadata": {
  "kernelspec": {
   "display_name": "Python 3 (ipykernel)",
   "language": "python",
   "name": "python3"
  },
  "language_info": {
   "codemirror_mode": {
    "name": "ipython",
    "version": 3
   },
   "file_extension": ".py",
   "mimetype": "text/x-python",
   "name": "python",
   "nbconvert_exporter": "python",
   "pygments_lexer": "ipython3",
   "version": "3.10.10"
  }
 },
 "nbformat": 4,
 "nbformat_minor": 5
}
