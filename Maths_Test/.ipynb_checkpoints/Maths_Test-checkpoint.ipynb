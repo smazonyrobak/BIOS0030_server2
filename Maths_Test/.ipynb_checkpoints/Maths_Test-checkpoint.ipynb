{
 "cells": [
  {
   "cell_type": "code",
   "execution_count": null,
   "id": "bd3a8c58-4b58-4de9-81f8-4c06f007e952",
   "metadata": {},
   "outputs": [
    {
     "name": "stdout",
     "output_type": "stream",
     "text": [
      "DATA CONSENT INFORMATION:\n",
      "Please read:\n",
      "we wish to record your response data\n",
      "to an anonymised public data repository.\n",
      "Your data will be used for educational teaching purposes practising data analysis and visualisation.\n",
      "Please type yes in the box below if you consent to the upload.\n"
     ]
    },
    {
     "name": "stdin",
     "output_type": "stream",
     "text": [
      ">  yes\n"
     ]
    },
    {
     "name": "stdout",
     "output_type": "stream",
     "text": [
      "Thanks for your participation.\n",
      "Please contact kwanhwi.lee.21@ucl.ac.uk\n",
      "If you have any questions or concerns\n",
      "regarding the stored results.\n",
      "\n",
      "Enter your anonymised ID\n",
      "To generate an anonymous 4-letter unique user identifier please enter:\n",
      "- two letters based on the initials (first and last name) of a childhood friend\n",
      "- two letters based on the initials (first and last name) of a favourite actor / actress\n",
      "e.g. if your friend was called Charlie Brown and film star was Tom\n",
      "Cruise\n",
      "then your unique identifer would be CBTC \n"
     ]
    },
    {
     "name": "stdin",
     "output_type": "stream",
     "text": [
      ">  DVDc\n"
     ]
    },
    {
     "name": "stdout",
     "output_type": "stream",
     "text": [
      "User entered id: DVDc\n",
      "Enter your age:\n"
     ]
    },
    {
     "name": "stdin",
     "output_type": "stream",
     "text": [
      ">  28\n"
     ]
    },
    {
     "name": "stdout",
     "output_type": "stream",
     "text": [
      "Enter your gender(male or female):\n"
     ]
    },
    {
     "name": "stdin",
     "output_type": "stream",
     "text": [
      ">  Male\n"
     ]
    },
    {
     "name": "stdout",
     "output_type": "stream",
     "text": [
      "Question 1:\n"
     ]
    },
    {
     "name": "stdin",
     "output_type": "stream",
     "text": [
      "3 * 2 =  6\n"
     ]
    },
    {
     "name": "stdout",
     "output_type": "stream",
     "text": [
      "Question 2:\n"
     ]
    }
   ],
   "source": [
    "import random\n",
    "import time\n",
    "import requests\n",
    "from bs4 import BeautifulSoup\n",
    "import json\n",
    "import pandas as pd\n",
    "\n",
    "# Set the seed immediately after importing random\n",
    "random.seed(1)\n",
    "\n",
    "data_consent_info = \"\"\"DATA CONSENT INFORMATION:\n",
    "Please read:\n",
    "we wish to record your response data\n",
    "to an anonymised public data repository.\n",
    "Your data will be used for educational teaching purposes practising data analysis and visualisation.\n",
    "Please type yes in the box below if you consent to the upload.\"\"\"\n",
    "print(data_consent_info)\n",
    "result = input(\"> \")\n",
    "if result == \"yes\" or \"Yes\":\n",
    "    print(\"Thanks for your participation.\")\n",
    "    print(\"Please contact kwanhwi.lee.21@ucl.ac.uk\")\n",
    "    print(\"If you have any questions or concerns\")\n",
    "    print(\"regarding the stored results.\")\n",
    "else:\n",
    "    # end code execution by raising an exception\n",
    "    raise(Exception(\"User did not consent to continue test.\"))\n",
    "\n",
    "id_instructions = \"\"\"\n",
    "Enter your anonymised ID\n",
    "To generate an anonymous 4-letter unique user identifier please enter:\n",
    "- two letters based on the initials (first and last name) of a childhood friend\n",
    "- two letters based on the initials (first and last name) of a favourite actor / actress\n",
    "e.g. if your friend was called Charlie Brown and film star was Tom\n",
    "Cruise\n",
    "then your unique identifer would be CBTC \"\"\"\n",
    "print(id_instructions)\n",
    "user_id = input(\"> \")\n",
    "print(\"User entered id:\", user_id)\n",
    "print(\"Enter your age:\")\n",
    "age = input(\"> \")\n",
    "print(\"Enter your gender(male or female):\")\n",
    "gender = input(\"> \")\n",
    "\n",
    "def generate_question(difficulty):\n",
    "    \"\"\"Generates a math question based on the difficulty level.\"\"\"\n",
    "    operations = ['+', '-', '*']\n",
    "    question = str(random.randint(1, 10))\n",
    "\n",
    "    for _ in range(difficulty):\n",
    "        operation = random.choice(operations)\n",
    "        number = random.randint(1, 10)\n",
    "        question += f' {operation} {number}'\n",
    "\n",
    "    return question\n",
    "\n",
    "def ask_question(question):\n",
    "    \"\"\"Displays a question and returns the user's answer and time taken.\"\"\"\n",
    "    start_time = time.time()\n",
    "    try:\n",
    "        answer = int(input(f\"{question} = \"))\n",
    "    except ValueError:  # In case non-integer input is given\n",
    "        answer = None\n",
    "    end_time = time.time()\n",
    "    return answer, end_time - start_time\n",
    "\n",
    "def maths_ability_test():\n",
    "    total_questions = 0\n",
    "    correct_answers = 0\n",
    "    total_time = 0\n",
    "    start_test = time.time()\n",
    "\n",
    "    while time.time() - start_test < 180:  # 180 seconds = 3 minutes\n",
    "        difficulty = total_questions // 5 + 1  # Increase difficulty every 5 questions\n",
    "        difficulty = min(difficulty, 5)  # Max difficulty is 5\n",
    "\n",
    "        question = generate_question(difficulty)\n",
    "        correct_answer = eval(question)\n",
    "\n",
    "        # Ensuring the answer is an integer and within the specified range\n",
    "        if not isinstance(correct_answer, int) or not (1 <= correct_answer <= 500):\n",
    "            continue\n",
    "\n",
    "        start_time = time.time()  # Set start time for each question\n",
    "        print(f\"Question {total_questions + 1}:\")\n",
    "        user_answer, time_taken = ask_question(question)\n",
    "\n",
    "        # Check if the answer is correct and an integer\n",
    "        if user_answer is not None and user_answer == correct_answer:\n",
    "            correct_answers += 1\n",
    "\n",
    "        total_questions += 1\n",
    "        total_time += time_taken\n",
    "\n",
    "        # Wait until 3 seconds have passed before displaying the next question\n",
    "        time.sleep(max(0, 3 - time_taken))\n",
    "\n",
    "    average_time = total_time / total_questions if total_questions > 0 else 0\n",
    "\n",
    "    return correct_answers, total_questions, average_time\n",
    "\n",
    "# Running the test\n",
    "score, questions_attempted, average_time = maths_ability_test()\n",
    "print(f\"Test Completed. Score: {score}/{questions_attempted}, Average Time: {average_time:.2f} seconds/question\")\n",
    "\n",
    "data_dict = {\n",
    "    \"id\": user_id,\n",
    "    \"age\": age,\n",
    "    \"gender\": gender,\n",
    "    \"score\": score,\n",
    "    \"average_time(time spent per question)\": average_time\n",
    "}\n",
    "\n",
    "# Create a single-row DataFrame with an index\n",
    "dataframe = pd.DataFrame([data_dict])\n",
    "myjson = dataframe.to_json()\n",
    "newdf = pd.read_json(myjson)\n",
    "data_dict = {\n",
    "    \"id\": user_id,\n",
    "    \"age\": age,\n",
    "    \"gender\": gender,\n",
    "    \"score\": score,\n",
    "    \"average_time(time spent per question)\": average_time,\n",
    "    \"results_json\" : dataframe.to_json ()\n",
    "}\n",
    "\n",
    "form_url = \"https://docs.google.com/forms/d/e/1FAIpQLSc6cdMzDdptB9FlgPrdABZSccaRfeKEKaCFa52_63de4Z8QKA/viewform\"\n",
    "send_to_google_form(data_dict, form_url)\n"
   ]
  },
  {
   "cell_type": "code",
   "execution_count": null,
   "id": "1dc8dfc8-319b-4475-8b97-0db07befb403",
   "metadata": {},
   "outputs": [],
   "source": []
  }
 ],
 "metadata": {
  "kernelspec": {
   "display_name": "Python 3 (ipykernel)",
   "language": "python",
   "name": "python3"
  },
  "language_info": {
   "codemirror_mode": {
    "name": "ipython",
    "version": 3
   },
   "file_extension": ".py",
   "mimetype": "text/x-python",
   "name": "python",
   "nbconvert_exporter": "python",
   "pygments_lexer": "ipython3",
   "version": "3.10.10"
  }
 },
 "nbformat": 4,
 "nbformat_minor": 5
}
